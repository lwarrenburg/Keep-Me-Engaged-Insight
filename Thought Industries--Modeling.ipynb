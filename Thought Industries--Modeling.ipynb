{
 "cells": [
  {
   "cell_type": "markdown",
   "metadata": {},
   "source": [
    "# Modeling\n",
    "### Goal: Compare different regression models, including linear models & tree-based models\n",
    "#### Last updated by Lindsay Warrenburg, Feb. 7, 2020"
   ]
  },
  {
   "cell_type": "markdown",
   "metadata": {},
   "source": [
    "# Step 1. Set-Up\n",
    "### Import packages and change working directory"
   ]
  },
  {
   "cell_type": "code",
   "execution_count": 3,
   "metadata": {},
   "outputs": [
    {
     "name": "stdout",
     "output_type": "stream",
     "text": [
      "/Users/home/Desktop/Python/Insight/Keep-Me-Engaged\n"
     ]
    }
   ],
   "source": [
    "import pandas as pd\n",
    "import numpy as np\n",
    "import os\n",
    "import sys\n",
    "import ipywidgets as widgets\n",
    "import qgrid\n",
    "import xlrd\n",
    "import xgboost as xgb\n",
    "import matplotlib.pyplot as plt \n",
    "import statsmodels.api as sm\n",
    "import statsmodels.formula.api as smf\n",
    "import seaborn as sns\n",
    "import shap\n",
    "import pickle5 as pickle\n",
    "from random_words import RandomWords\n",
    "from merf import MERF\n",
    "from merf.utils import MERFDataGenerator\n",
    "from merf.merf import MERF\n",
    "from sklearn import preprocessing, metrics\n",
    "from sklearn.feature_selection import SelectFromModel\n",
    "from sklearn.pipeline import Pipeline\n",
    "from sklearn.preprocessing import StandardScaler, MinMaxScaler\n",
    "from sklearn.ensemble import RandomForestRegressor\n",
    "from sklearn.linear_model import LogisticRegression\n",
    "from sklearn.svm import SVC\n",
    "from sklearn.dummy import DummyRegressor\n",
    "from sklearn.linear_model import LinearRegression, Ridge, Lasso, ElasticNet\n",
    "from sklearn.model_selection import GridSearchCV, KFold, cross_val_score, train_test_split\n",
    "from sklearn.metrics import r2_score, mean_squared_error, mean_squared_log_error, make_scorer, confusion_matrix, plot_confusion_matrix, classification_report\n",
    "from pandas.api.types import CategoricalDtype\n",
    "from jupyter_contrib_nbextensions.application import main\n",
    "from ipywidgets import interact\n",
    "from plotnine import *\n",
    "from plotnine.data import mpg\n",
    "from IPython.display import HTML\n",
    "from IPython.display import IFrame\n",
    "from IPython.display import YouTubeVideo\n",
    "from imblearn.over_sampling import SMOTE\n",
    "%matplotlib inline\n",
    "\n",
    "# set directory\n",
    "os.chdir(\"/Users/home/Desktop/Data Science/Keep-Me-Engaged\")\n",
    "print(os.getcwd())"
   ]
  },
  {
   "cell_type": "markdown",
   "metadata": {},
   "source": [
    "### Make View tab\n",
    "#### Taken from Martin: https://stackoverflow.com/users/2575273/martin"
   ]
  },
  {
   "cell_type": "code",
   "execution_count": null,
   "metadata": {},
   "outputs": [],
   "source": [
    "def View(df):\n",
    "    css = \"\"\"<style>\n",
    "    table { border-collapse: collapse; border: 3px solid #eee; }\n",
    "    table tr th:first-child { background-color: #eeeeee; color: #333; font-weight: bold }\n",
    "    table thead th { background-color: #eee; color: #000; }\n",
    "    tr, th, td { border: 1px solid #ccc; border-width: 1px 0 0 1px; border-collapse: collapse;\n",
    "    padding: 3px; font-family: monospace; font-size: 10px }</style>\n",
    "    \"\"\"\n",
    "    s  = '<script type=\"text/Javascript\">'\n",
    "    s += 'var win = window.open(\"\", \"Title\", \"toolbar=no, location=no, directories=no, status=no, menubar=no, scrollbars=yes, resizable=yes, width=780, height=200, top=\"+(screen.height-400)+\", left=\"+(screen.width-840));'\n",
    "    s += 'win.document.body.innerHTML = \\'' + (df.to_html() + css).replace(\"\\n\",'\\\\') + '\\';'\n",
    "    s += '</script>'\n",
    "    return(HTML(s+css))\n",
    "\n",
    "files = os.listdir(os.curdir)"
   ]
  },
  {
   "cell_type": "markdown",
   "metadata": {},
   "source": [
    "### Read in Data"
   ]
  },
  {
   "cell_type": "code",
   "execution_count": 5,
   "metadata": {},
   "outputs": [
    {
     "name": "stdout",
     "output_type": "stream",
     "text": [
      "data:  (30688, 26)\n",
      "data_log:  (30688, 26) \n",
      "\n"
     ]
    }
   ],
   "source": [
    "data = pd.read_csv('data.csv')\n",
    "print(\"data: \", data.shape) # (30688, 26)\n",
    "\n",
    "data_log = pd.read_csv('data_log.csv')\n",
    "print(\"data_log: \", data_log.shape, \"\\n\") # (30688, 26)"
   ]
  },
  {
   "cell_type": "markdown",
   "metadata": {},
   "source": [
    "# Step 2. Train/Test Split\n",
    "### Non-logged Predictors"
   ]
  },
  {
   "cell_type": "code",
   "execution_count": 6,
   "metadata": {},
   "outputs": [],
   "source": [
    "X = data[[\n",
    "         # 1. Admin features\n",
    "         'Price (dollars)', \n",
    "         'Discount (dollars)', \n",
    "         'Length of Course (hours)', \n",
    "         'Number of Users', \n",
    "         'Company Administrators (percent)', \n",
    "         'Company Instructors (percent)',\n",
    "         'Company Learners (percent)',\n",
    "         'Company Rating (average)',\n",
    "\n",
    "         # 2. Learner features\n",
    "         #'Visibility (# views)', \n",
    "         'Quiz Grade (average)', \n",
    "         'Completed Quizzes (percent)',\n",
    "\n",
    "         # 3. Instructor features\n",
    "         #'Surveys, Talleys, and Workbooks (percent)', \n",
    "         'Graded Assessment (percent)',\n",
    "         'Not-Graded Assessment (percent)',\n",
    "         'Content (percent)',\n",
    "         'External (percent)',\n",
    "         'Interactive (percent)',\n",
    "\n",
    "         # 4. Website features\n",
    "         'Uses SCORM (yes/no)', \n",
    "         'Milestone Course (yes/no)', \n",
    "         'Certificates (percent)',\n",
    "         'Collaborations (average)', \n",
    "         'Teacher Comments (average)', \n",
    "]]\n",
    "\n",
    "y = data['Engagement Score']\n"
   ]
  },
  {
   "cell_type": "markdown",
   "metadata": {},
   "source": [
    "### Logged Predictors"
   ]
  },
  {
   "cell_type": "code",
   "execution_count": null,
   "metadata": {},
   "outputs": [],
   "source": [
    "X_log = data_log[[\n",
    "         # 1. Admin features\n",
    "         'Price (dollars)', \n",
    "         'Discount (dollars)', \n",
    "         'Length of Course (hours)', \n",
    "         'Number of Users', \n",
    "         'Company Administrators (percent)', \n",
    "         'Company Instructors (percent)',\n",
    "         'Company Learners (percent)',\n",
    "         'Company Rating (average)',\n",
    "\n",
    "         # 2. Learner features\n",
    "         'Visibility (# views)', \n",
    "         'Quiz Grade (average)', \n",
    "         'Completed Quizzes (percent)',\n",
    "\n",
    "         # 3. Instructor features\n",
    "         'Surveys, Talleys, and Workbooks (percent)', \n",
    "         'Graded Assessment (percent)',\n",
    "         'Not-Graded Assessment (percent)',\n",
    "         'Content (percent)',\n",
    "         'External (percent)',\n",
    "         'Interactive (percent)',\n",
    "\n",
    "         # 4. Website features\n",
    "         'Uses SCORM (yes/no)', \n",
    "         'Milestone Course (yes/no)', \n",
    "         'Certificates (percent)',\n",
    "         'Collaborations (average)', \n",
    "         'Teacher Comments (average)', \n",
    "]]\n",
    "\n",
    "y_log = data_log['Engagement Score']\n"
   ]
  },
  {
   "cell_type": "markdown",
   "metadata": {},
   "source": [
    "### Read out DF to CSV for Web App Use"
   ]
  },
  {
   "cell_type": "code",
   "execution_count": 19,
   "metadata": {},
   "outputs": [],
   "source": [
    "X.to_csv(r'X.csv', index = None, header=True)\n",
    "y.to_csv(r'y.csv', index = None, header=True)"
   ]
  },
  {
   "cell_type": "markdown",
   "metadata": {},
   "source": [
    "### Choose Small of Companies/Courses for Web App Selection"
   ]
  },
  {
   "cell_type": "code",
   "execution_count": null,
   "metadata": {},
   "outputs": [],
   "source": [
    "small = data.sort_values(by=['companyid_words'])\n",
    "test = small.groupby('companyid_words').head(15)\n",
    "counts = pd.DataFrame(test['companyid_words'].value_counts())\n",
    "View(counts)\n",
    "counts = counts[counts['companyid_words'] > 2]\n",
    "counts.index\n",
    "\n",
    "test = test[test['companyid_words'].isin(counts.index)]\n",
    "\n",
    "test.to_csv(r'fifteen.csv', index = None, header=True)"
   ]
  },
  {
   "cell_type": "markdown",
   "metadata": {},
   "source": [
    "# Step 3. Random Forest Regression"
   ]
  },
  {
   "cell_type": "code",
   "execution_count": null,
   "metadata": {},
   "outputs": [],
   "source": [
    "### RANDOM FOREST MODELS: ###\n",
    "    # selected because both categorical and continuous features\n",
    "    # it treats rows more independently than linear regression:\n",
    "    # linear regression assumes correlation (linear relation between e.g, engagment \n",
    "    # and quiz grade avg, are the same across all rows (courses). \n",
    "    # in random forest models, the impact of each feature on engagment is allowed to vary more\n",
    "    # random forest regression bc y is continuous\n",
    "    # supervised model"
   ]
  },
  {
   "cell_type": "markdown",
   "metadata": {},
   "source": [
    "### Train/Test Split"
   ]
  },
  {
   "cell_type": "code",
   "execution_count": 18,
   "metadata": {},
   "outputs": [],
   "source": [
    "X_train, X_test, y_train, y_test = train_test_split(X, y, test_size=0.2, random_state=int(100*np.random.random()))"
   ]
  },
  {
   "cell_type": "markdown",
   "metadata": {},
   "source": [
    "### Hyper-parameter Tuning: Grid Search"
   ]
  },
  {
   "cell_type": "code",
   "execution_count": 8,
   "metadata": {},
   "outputs": [
    {
     "name": "stdout",
     "output_type": "stream",
     "text": [
      "Best parameters found by grid search are: {'bootstrap': True, 'max_depth': 110, 'max_features': 3, 'min_samples_leaf': 3, 'min_samples_split': 8, 'n_estimators': 1500}\n"
     ]
    }
   ],
   "source": [
    "# helps choose best hyperparameters. Also does validation automatically\n",
    "    # n_estimators: # trees\n",
    "    # max_features: max # features before splitting\n",
    "    # max_depth = max # of levels for each tree (how many times it splits)\n",
    "    # min_samples_split = min # data points used before split\n",
    "    # min_samples_leaf = min # data points in a leaf\n",
    "    # bootstrap = how sample data points\n",
    "\n",
    "estimator = RandomForestRegressor()\n",
    "parameter_grid = {\n",
    "    'bootstrap': [True],\n",
    "    'max_depth': [80, 90, 100, 110],\n",
    "    'max_features': [2, 3],\n",
    "    'min_samples_leaf': [3, 4, 5],\n",
    "    'min_samples_split': [8, 10, 12],\n",
    "    'n_estimators': [200, 300, 1000, 1500]\n",
    "}\n",
    "rf = GridSearchCV(estimator, parameter_grid, cv = 3)\n",
    "rf.fit(X_train, y_train)\n",
    "    # bootstrapping = T: samples observations WITH replacement (keeps independence)\n",
    "    # cv = # of cross-validation folds\n",
    "    # fit: validation metric. extract the validation metrics.\n",
    "\n",
    "# evaluate\n",
    "# print(rf.cv_results_)\n",
    "print('Best parameters found by grid search are:', rf.best_params_)\n",
    "    # Best parameters found by grid search are: \n",
    "    # {'bootstrap': True, 'max_depth': 110, 'max_features': 3, \n",
    "    # 'min_samples_leaf': 3, 'min_samples_split': 8, 'n_estimators': 1500}\n",
    "\n"
   ]
  },
  {
   "cell_type": "markdown",
   "metadata": {},
   "source": [
    "### Evaluating Base RF Model and RF with Hyperparameters Tuned\n",
    "#### Taken from https://towardsdatascience.com/hyperparameter-tuning-the-random-forest-in-python-using-scikit-learn-28d2aa77dd74"
   ]
  },
  {
   "cell_type": "code",
   "execution_count": 9,
   "metadata": {},
   "outputs": [
    {
     "name": "stderr",
     "output_type": "stream",
     "text": [
      "INFO     [utils.py:141] NumExpr defaulting to 8 threads.\n"
     ]
    },
    {
     "name": "stdout",
     "output_type": "stream",
     "text": [
      "Model Performance\n",
      "Average Error: 14.0688 degrees.\n",
      "Accuracy = 34.59%.\n",
      "Model Performance\n",
      "Average Error: 11.9231 degrees.\n",
      "Accuracy = 41.10%.\n",
      "Improvement of 18.82%.\n"
     ]
    }
   ],
   "source": [
    "def evaluate(model, test_features, test_labels):\n",
    "    predictions = model.predict(test_features)\n",
    "    errors = abs(predictions - test_labels)\n",
    "    mape = 100 * np.mean(errors / test_labels)\n",
    "    accuracy = 100 - mape\n",
    "    print('Model Performance')\n",
    "    print('Average Error: {:0.4f} degrees.'.format(np.mean(errors)))\n",
    "    print('Accuracy = {:0.2f}%.'.format(accuracy))\n",
    "    return accuracy\n",
    "\n",
    "# base model (no tuning)\n",
    "base_model = RandomForestRegressor(max_depth = 8, n_estimators = 20)\n",
    "base_model.fit(X_train, y_train)\n",
    "base_accuracy = evaluate(base_model, X_test, y_test)\n",
    "    # Base Model Performance\n",
    "    # Average Error: 14.0688 degrees.\n",
    "    # Accuracy = 34.59%.\n",
    "    \n",
    "# tuned model\n",
    "tuned_parameter_grid = {\n",
    "    'bootstrap': [True],\n",
    "    'max_depth': [110],\n",
    "    'max_features': [3],\n",
    "    'min_samples_leaf': [3],\n",
    "    'min_samples_split': [8],\n",
    "    'n_estimators': [1500]\n",
    "}\n",
    "\n",
    "rf_tuned = GridSearchCV(estimator, tuned_parameter_grid, cv = 3)\n",
    "rf_tuned.fit(X_train, y_train)\n",
    "\n",
    "best_rf = rf_tuned.best_estimator_\n",
    "random_accuracy = evaluate(best_rf, X_test, y_test)\n",
    "    # Tuned Model Performance\n",
    "    # Average Error: 11.9231 degrees.\n",
    "    # Accuracy = 41.10%.\n",
    "    # Improvement of 18.82%.\n",
    "\n",
    "# check how much the tuned model increases accuracy\n",
    "print('Improvement of {:0.2f}%.'.format( 100 * (random_accuracy - base_accuracy) / base_accuracy))\n",
    "    # Improvement of 18.82%."
   ]
  },
  {
   "cell_type": "markdown",
   "metadata": {},
   "source": [
    "### Run & Evaluate RF Model"
   ]
  },
  {
   "cell_type": "code",
   "execution_count": 17,
   "metadata": {},
   "outputs": [
    {
     "name": "stdout",
     "output_type": "stream",
     "text": [
      "Mean Absolute Error: 12.024816586679458\n",
      "Mean Squared Error: 243.88620772290537\n",
      "Root Mean Squared Error: 15.616856525015057\n",
      "R2 of test set: 0.6160457370487651\n",
      "R2 of training set--helps look for overfitting: 0.733271602345603\n"
     ]
    },
    {
     "data": {
      "image/png": "[encoded data removed]",
      "text/plain": [
       "<Figure size 432x288 with 1 Axes>"
      ]
     },
     "metadata": {
      "needs_background": "light"
     },
     "output_type": "display_data"
    }
   ],
   "source": [
    "# take this model tuned above\n",
    "regressor = RandomForestRegressor(bootstrap = True, max_depth = 110, max_features = 3,\n",
    "                                  min_samples_leaf = 3, min_samples_split = 8, n_estimators=1500, \n",
    "                                  random_state=int(100*np.random.random()))\n",
    "\n",
    "regressor.fit(X_train, y_train)\n",
    "regressor.feature_importances_\n",
    "y_pred = regressor.predict(X_test)\n",
    "\n",
    "# evaluate    \n",
    "    # MAE measures the average magnitude of the errors in a set of predictions\n",
    "    # The Mean squared error (MSE) measures the mean squared error. \n",
    "    # Like MAE, the MSE treats deviations in either direction the same way. \n",
    "    # One difference between MSE and MAE is that MSE will tend to punish large errors more \n",
    "    # because it squares all the errors\n",
    "\n",
    "    # RMSE is the square root of the average of squared differences between prediction and \n",
    "    # actual observation.\n",
    "    # The RMSE gives a relatively high weight to large errors. \n",
    "    # This means the RMSE should be more useful when large errors are particularly undesirable.\n",
    "\n",
    "mae = metrics.mean_absolute_error(y_test, y_pred)\n",
    "mse = metrics.mean_squared_error(y_test, y_pred)\n",
    "rmse = np.sqrt(metrics.mean_squared_error(y_test, y_pred))\n",
    "rsq_test = regressor.score(X_test,y_test)\n",
    "rsq_train = regressor.score(X_train,y_train)\n",
    "print('Mean Absolute Error:', mae)\n",
    "print('Mean Squared Error:', mse)\n",
    "print('Root Mean Squared Error:', rmse)\n",
    "print('R2 of test set:', rsq_test)\n",
    "print('R2 of training set--helps look for overfitting:', rsq_train)\n",
    "    \n",
    "# plot: x-axis is index.\n",
    "plt.plot(y_test)\n",
    "plt.plot(y_pred)\n",
    "error = abs(y_test-y_pred)\n",
    "plt.plot(error)\n",
    "plt.title('RF')\n",
    "plt.legend\n",
    "plt.show()\n",
    "\n",
    "# RESULTS\n",
    "    # Mean Absolute Error: 11.919842757319413\n",
    "    # Mean Squared Error: 239.69117328533193\n",
    "    # Root Mean Squared Error: 15.48196283697038\n",
    "    # R2 of test set: 0.619678548144315\n",
    "    # R2 of training set--helps look for overfitting: 0.7328602018227833\n"
   ]
  },
  {
   "cell_type": "markdown",
   "metadata": {},
   "source": [
    "### Read out model as a pickle file"
   ]
  },
  {
   "cell_type": "code",
   "execution_count": 22,
   "metadata": {},
   "outputs": [],
   "source": [
    "filename = 'finalizedmodel.sav'\n",
    "pickle.dump(regressor, open(filename, 'wb'))"
   ]
  },
  {
   "cell_type": "markdown",
   "metadata": {},
   "source": [
    "### Feature Importance"
   ]
  },
  {
   "cell_type": "code",
   "execution_count": 11,
   "metadata": {},
   "outputs": [
    {
     "name": "stdout",
     "output_type": "stream",
     "text": [
      "Feature ranking:\n"
     ]
    },
    {
     "data": {
      "image/png": "[encoded data removed]",
      "text/plain": [
       "<Figure size 432x288 with 1 Axes>"
      ]
     },
     "metadata": {
      "needs_background": "light"
     },
     "output_type": "display_data"
    },
    {
     "data": {
      "text/html": [
       "<div>\n",
       "<style scoped>\n",
       "    .dataframe tbody tr th:only-of-type {\n",
       "        vertical-align: middle;\n",
       "    }\n",
       "\n",
       "    .dataframe tbody tr th {\n",
       "        vertical-align: top;\n",
       "    }\n",
       "\n",
       "    .dataframe thead th {\n",
       "        text-align: right;\n",
       "    }\n",
       "</style>\n",
       "<table border=\"1\" class=\"dataframe\">\n",
       "  <thead>\n",
       "    <tr style=\"text-align: right;\">\n",
       "      <th></th>\n",
       "      <th>colname</th>\n",
       "      <th>rank</th>\n",
       "      <th>importance</th>\n",
       "      <th>controllable</th>\n",
       "    </tr>\n",
       "  </thead>\n",
       "  <tbody>\n",
       "    <tr>\n",
       "      <td>0</td>\n",
       "      <td>Length of Course (hours)</td>\n",
       "      <td>2</td>\n",
       "      <td>0.169674</td>\n",
       "      <td>Administrative Features</td>\n",
       "    </tr>\n",
       "    <tr>\n",
       "      <td>1</td>\n",
       "      <td>Number of Users</td>\n",
       "      <td>3</td>\n",
       "      <td>0.130193</td>\n",
       "      <td>Administrative Features</td>\n",
       "    </tr>\n",
       "    <tr>\n",
       "      <td>2</td>\n",
       "      <td>Company Rating (average)</td>\n",
       "      <td>7</td>\n",
       "      <td>0.091520</td>\n",
       "      <td>Administrative Features</td>\n",
       "    </tr>\n",
       "    <tr>\n",
       "      <td>3</td>\n",
       "      <td>Content (percent)</td>\n",
       "      <td>12</td>\n",
       "      <td>0.084493</td>\n",
       "      <td>Instructor Features</td>\n",
       "    </tr>\n",
       "    <tr>\n",
       "      <td>4</td>\n",
       "      <td>Price (dollars)</td>\n",
       "      <td>0</td>\n",
       "      <td>0.071583</td>\n",
       "      <td>Administrative Features</td>\n",
       "    </tr>\n",
       "    <tr>\n",
       "      <td>5</td>\n",
       "      <td>Not-Graded Assessment (percent)</td>\n",
       "      <td>11</td>\n",
       "      <td>0.066813</td>\n",
       "      <td>Instructor Features</td>\n",
       "    </tr>\n",
       "    <tr>\n",
       "      <td>6</td>\n",
       "      <td>Certificates (percent)</td>\n",
       "      <td>17</td>\n",
       "      <td>0.055398</td>\n",
       "      <td>Website Features</td>\n",
       "    </tr>\n",
       "    <tr>\n",
       "      <td>7</td>\n",
       "      <td>Company Learners (percent)</td>\n",
       "      <td>6</td>\n",
       "      <td>0.045614</td>\n",
       "      <td>Administrative Features</td>\n",
       "    </tr>\n",
       "    <tr>\n",
       "      <td>8</td>\n",
       "      <td>Interactive (percent)</td>\n",
       "      <td>14</td>\n",
       "      <td>0.043287</td>\n",
       "      <td>Instructor Features</td>\n",
       "    </tr>\n",
       "    <tr>\n",
       "      <td>9</td>\n",
       "      <td>Graded Assessment (percent)</td>\n",
       "      <td>10</td>\n",
       "      <td>0.042690</td>\n",
       "      <td>Instructor Features</td>\n",
       "    </tr>\n",
       "    <tr>\n",
       "      <td>10</td>\n",
       "      <td>Company Administrators (percent)</td>\n",
       "      <td>4</td>\n",
       "      <td>0.041162</td>\n",
       "      <td>Administrative Features</td>\n",
       "    </tr>\n",
       "    <tr>\n",
       "      <td>11</td>\n",
       "      <td>Quiz Grade (average)</td>\n",
       "      <td>8</td>\n",
       "      <td>0.034611</td>\n",
       "      <td>Learner Features</td>\n",
       "    </tr>\n",
       "    <tr>\n",
       "      <td>12</td>\n",
       "      <td>Company Instructors (percent)</td>\n",
       "      <td>5</td>\n",
       "      <td>0.034291</td>\n",
       "      <td>Administrative Features</td>\n",
       "    </tr>\n",
       "    <tr>\n",
       "      <td>13</td>\n",
       "      <td>External (percent)</td>\n",
       "      <td>13</td>\n",
       "      <td>0.024930</td>\n",
       "      <td>Instructor Features</td>\n",
       "    </tr>\n",
       "    <tr>\n",
       "      <td>14</td>\n",
       "      <td>Completed Quizzes (percent)</td>\n",
       "      <td>9</td>\n",
       "      <td>0.017404</td>\n",
       "      <td>Learner Features</td>\n",
       "    </tr>\n",
       "    <tr>\n",
       "      <td>15</td>\n",
       "      <td>Teacher Comments (average)</td>\n",
       "      <td>19</td>\n",
       "      <td>0.014719</td>\n",
       "      <td>Website Features</td>\n",
       "    </tr>\n",
       "    <tr>\n",
       "      <td>16</td>\n",
       "      <td>Discount (dollars)</td>\n",
       "      <td>1</td>\n",
       "      <td>0.012225</td>\n",
       "      <td>Administrative Features</td>\n",
       "    </tr>\n",
       "    <tr>\n",
       "      <td>17</td>\n",
       "      <td>Collaborations (average)</td>\n",
       "      <td>18</td>\n",
       "      <td>0.011771</td>\n",
       "      <td>Website Features</td>\n",
       "    </tr>\n",
       "    <tr>\n",
       "      <td>18</td>\n",
       "      <td>Milestone Course (yes/no)</td>\n",
       "      <td>16</td>\n",
       "      <td>0.005934</td>\n",
       "      <td>Website Features</td>\n",
       "    </tr>\n",
       "    <tr>\n",
       "      <td>19</td>\n",
       "      <td>Uses SCORM (yes/no)</td>\n",
       "      <td>15</td>\n",
       "      <td>0.001690</td>\n",
       "      <td>Website Features</td>\n",
       "    </tr>\n",
       "  </tbody>\n",
       "</table>\n",
       "</div>"
      ],
      "text/plain": [
       "                             colname  rank  importance  \\\n",
       "0           Length of Course (hours)     2    0.169674   \n",
       "1                    Number of Users     3    0.130193   \n",
       "2           Company Rating (average)     7    0.091520   \n",
       "3                  Content (percent)    12    0.084493   \n",
       "4                    Price (dollars)     0    0.071583   \n",
       "5    Not-Graded Assessment (percent)    11    0.066813   \n",
       "6             Certificates (percent)    17    0.055398   \n",
       "7         Company Learners (percent)     6    0.045614   \n",
       "8              Interactive (percent)    14    0.043287   \n",
       "9        Graded Assessment (percent)    10    0.042690   \n",
       "10  Company Administrators (percent)     4    0.041162   \n",
       "11              Quiz Grade (average)     8    0.034611   \n",
       "12     Company Instructors (percent)     5    0.034291   \n",
       "13                External (percent)    13    0.024930   \n",
       "14       Completed Quizzes (percent)     9    0.017404   \n",
       "15        Teacher Comments (average)    19    0.014719   \n",
       "16                Discount (dollars)     1    0.012225   \n",
       "17          Collaborations (average)    18    0.011771   \n",
       "18         Milestone Course (yes/no)    16    0.005934   \n",
       "19               Uses SCORM (yes/no)    15    0.001690   \n",
       "\n",
       "               controllable  \n",
       "0   Administrative Features  \n",
       "1   Administrative Features  \n",
       "2   Administrative Features  \n",
       "3       Instructor Features  \n",
       "4   Administrative Features  \n",
       "5       Instructor Features  \n",
       "6          Website Features  \n",
       "7   Administrative Features  \n",
       "8       Instructor Features  \n",
       "9       Instructor Features  \n",
       "10  Administrative Features  \n",
       "11         Learner Features  \n",
       "12  Administrative Features  \n",
       "13      Instructor Features  \n",
       "14         Learner Features  \n",
       "15         Website Features  \n",
       "16  Administrative Features  \n",
       "17         Website Features  \n",
       "18         Website Features  \n",
       "19         Website Features  "
      ]
     },
     "execution_count": 11,
     "metadata": {},
     "output_type": "execute_result"
    }
   ],
   "source": [
    "# feature importance\n",
    "importances = regressor.feature_importances_\n",
    "std = np.std([tree.feature_importances_ for tree in regressor.estimators_], axis=0)\n",
    "indices = np.argsort(importances)[::-1]\n",
    "\n",
    "# Print the feature ranking\n",
    "print(\"Feature ranking:\")\n",
    "col = []\n",
    "r = []\n",
    "imp = []\n",
    "for i in indices:\n",
    "    column = X.columns[i]\n",
    "    col.append(column)\n",
    "    rank = i\n",
    "    r.append(rank)\n",
    "    importance = importances[i]\n",
    "    imp.append(importance)\n",
    "    \n",
    "featureimportance = pd.DataFrame()\n",
    "featureimportance['colname'] = col\n",
    "featureimportance['rank'] = r\n",
    "featureimportance['importance'] = imp\n",
    "featureimportance = featureimportance.sort_values(by='importance', ascending = False)\n",
    "\n",
    "# add column about whether or not the administrator can control those features\n",
    "featureimportance['controllable'] = \"\"\n",
    "\n",
    "for i, row in featureimportance.iterrows():\n",
    "    if featureimportance.iloc[i, 0] in(['Price (dollars)', 'Discount (dollars)', \n",
    "                                        'Length of Course (hours)', 'Number of Users', \n",
    "                                        'Company Administrators (percent)', \n",
    "                                        'Company Instructors (percent)',\n",
    "                                        'Company Learners (percent)',\n",
    "                                        'Company Rating (average)']) :\n",
    "        featureimportance.iloc[i, 3] = \"Administrative Features\"\n",
    "        \n",
    "    if featureimportance.iloc[i, 0] in (['Visibility (# views)', 'Quiz Grade (average)', \n",
    "                                         'Completed Quizzes (percent)']) :\n",
    "        featureimportance.iloc[i, 3] = \"Learner Features\"\n",
    "        \n",
    "    if featureimportance.iloc[i, 0] in (['Surveys, Talleys, and Workbooks (percent)', \n",
    "                                         'Graded Assessment (percent)',\n",
    "                                         'Not-Graded Assessment (percent)',\n",
    "                                         'Content (percent)', 'External (percent)',\n",
    "                                         'Interactive (percent)']) :\n",
    "        featureimportance.iloc[i, 3] = \"Instructor Features\"\n",
    "        \n",
    "    if featureimportance.iloc[i, 0] in (['Uses SCORM (yes/no)', \n",
    "                                         'Milestone Course (yes/no)', \n",
    "                                         'Certificates (percent)',\n",
    "                                         'Collaborations (average)', \n",
    "                                         'Teacher Comments (average)']) :\n",
    "        featureimportance.iloc[i, 3] = \"Website Features\"\n",
    "        \n",
    "featureimportance.to_csv (r'featureimportance.csv', index = None, header=True)\n",
    "\n",
    "# Plot the feature importances of the forest\n",
    "plt.figure()\n",
    "plt.title(\"Feature importances\")\n",
    "plt.bar(range(X.shape[1]), importances[indices],\n",
    "       color=\"r\", yerr=std[indices], align=\"center\")\n",
    "plt.xticks(range(X.shape[1]), indices)\n",
    "plt.xlim([-1, X.shape[1]])\n",
    "plt.show()\n",
    "\n",
    "featureimportance"
   ]
  },
  {
   "cell_type": "markdown",
   "metadata": {},
   "source": [
    "### Plot Feature Importance"
   ]
  },
  {
   "cell_type": "code",
   "execution_count": 18,
   "metadata": {},
   "outputs": [
    {
     "data": {
      "image/png": "[encoded data removed]",
      "text/plain": [
       "<Figure size 640x480 with 1 Axes>"
      ]
     },
     "metadata": {},
     "output_type": "display_data"
    },
    {
     "data": {
      "text/plain": [
       "<ggplot: (7608075437)>"
      ]
     },
     "execution_count": 18,
     "metadata": {},
     "output_type": "execute_result"
    }
   ],
   "source": [
    "featureimportance = pd.read_csv('featureimportance.csv')\n",
    "\n",
    "features = list(featureimportance['colname'])\n",
    "featureimportance['colname'] = featureimportance['colname'].astype('category')\n",
    "\n",
    "# bin list for all 4 types of features (instructor, website, administrative, learner)\n",
    "bin_list = ['Length of Course (hours)', 'Number of Users', 'Company Rating (average)', \n",
    "            'Content (percent)', 'Price (dollars)', 'Not-Graded Assessment (percent)', \n",
    "            'Certificates (percent)', 'Company Learners (percent)', \n",
    "            'Interactive (percent)', 'Graded Assessment (percent)', \n",
    "            'Company Administrators (percent)', 'Quiz Grade (average)', \n",
    "            'Company Instructors (percent)', 'External (percent)', \n",
    "            'Completed Quizzes (percent)', 'Teacher Comments (average)', \n",
    "            'Discount (dollars)', 'Collaborations (average)', \n",
    "            'Milestone Course (yes/no)', 'Uses SCORM (yes/no)']\n",
    "\n",
    "# repeat with only features a course instructor can control (instructor, website)\n",
    "# featureimportance = featureimportance[featureimportance['controllable'].isin(['Instructor Features', 'Website Features'])]\n",
    "\n",
    "# bin_list = ['Content (percent)', 'Not-Graded Assessment (percent)', 'Certificates (percent)', \n",
    "#             'Interactive (percent)', 'Graded Assessment (percent)', 'External (percent)', \n",
    "#             'Teacher Comments (average)', 'Collaborations (average)', \n",
    "#             'Milestone Course (yes/no)', 'Uses SCORM (yes/no)']\n",
    "\n",
    "bin_cat = pd.Categorical(featureimportance['colname'], categories=bin_list)\n",
    "\n",
    "# plot!\n",
    "(\n",
    "    ggplot(featureimportance, aes(x = 'bin_cat', y='importance', fill='controllable')) + \n",
    "    geom_bar(stat='identity', position='dodge')+\n",
    "    xlab(\"\") + ylab(\"Relative Importance (0-1)\") +\n",
    "    ggtitle(\"Feature Importance for \\nUser Engagement\") +\n",
    "    coord_flip() + \n",
    "    scale_x_discrete(limits=list(reversed(bin_cat.categories))) +\n",
    "    theme(\n",
    "      axis_text_x = element_text(color = \"black\", size = 12, angle = 0),\n",
    "      axis_text_y = element_text(color = \"black\", size = 12, angle = 0),\n",
    "      legend_title=element_blank(),\n",
    "      panel_grid_major = element_line(colour = \"white\"),\n",
    "      panel_grid_minor = element_line(colour = \"white\"),\n",
    "      panel_background = element_rect(fill = \"white\"),\n",
    "      strip_background = element_rect(colour=\"black\", fill=\"white\"),\n",
    "      axis_title_y = element_text(size = 16, angle = 90),\n",
    "      axis_title_x = element_text(color = \"black\", size = 16, angle = 0),\n",
    "      plot_title = element_text(size = 24, hjust = 0.5),\n",
    "      strip_text = element_text(size = 16, face = \"bold\"),\n",
    "      plot_background = element_rect(colour = \"white\"),\n",
    "      panel_border = element_rect(colour = \"black\", fill = \"white\"))\n",
    ")"
   ]
  },
  {
   "cell_type": "markdown",
   "metadata": {},
   "source": [
    "### Shapley Values & Plots\n",
    "#### Code and explanations of plots taken from https://github.com/slundberg/shap/blob/master/README.md"
   ]
  },
  {
   "cell_type": "code",
   "execution_count": null,
   "metadata": {},
   "outputs": [],
   "source": [
    "#  Shapley value: average of marginal contributions across all permutations. \n",
    "\n",
    "# load JS visualization code to notebook\n",
    "shap.initjs()\n",
    "\n",
    "# explain the model's predictions using SHAP\n",
    "explainer = shap.TreeExplainer(regressor)\n",
    "shap_values = explainer.shap_values(X_train)\n",
    "\n",
    "# visualize the first prediction's explanation (use matplotlib=True to avoid Javascript)\n",
    "shap.force_plot(explainer.expected_value, shap_values[0,:], X.iloc[0,:])\n",
    "    # The above explanation shows features each c   ontributing to push the model output from the base value \n",
    "    # (the average model output over the training dataset we passed) to the model output. \n",
    "    # Features pushing the prediction higher are shown in red, \n",
    "    # those pushing the prediction lower are in blue\n",
    "\n",
    "# To understand how a single feature effects the output of the model we can plot the SHAP \n",
    "    # value of that feature vs. the value of the feature for all the examples in a dataset. \n",
    "    # Since SHAP values represent a feature's responsibility for a change in the model output, \n",
    "    # the plot below represents the change in predicted house price as RM \n",
    "    # (the average number of rooms per house in an area) changes. \n",
    "    # Vertical dispersion at a single value of RM represents interaction effects with other features. \n",
    "    # To help reveal these interactions dependence_plot automatically selects another feature for coloring. \n",
    "    # In this case coloring by RAD (index of accessibility to radial highways) highlights that the \n",
    "    # average number of rooms per house has less impact on home price for areas with a high RAD value.\n",
    "\n",
    "# create a dependence plot to show the effect of a single feature across the whole dataset\n",
    "shap.dependence_plot(\"Uses SCORM (yes/no)\", shap_values, X_train)\n",
    "\n",
    "# To get an overview of which features are most important for a model we can plot the SHAP values \n",
    "    # of every feature for every sample. The plot below sorts features by the sum of SHAP value \n",
    "    # magnitudes over all samples, and uses SHAP values to show the distribution of the \n",
    "    # impacts each feature has on the model output. \n",
    "    # The color represents the feature value (red high, blue low). \n",
    "    # This reveals for example that a high LSTAT (% lower status of the population) lowers the predicted home price.\n",
    "\n",
    "    # summarize the effects of all the features\n",
    "shap.summary_plot(shap_values, X_train)\n",
    "\n",
    "# We can also just take the mean absolute value of the SHAP values for each feature to get a standard bar plot \n",
    "# (produces stacked bars for multi-class outputs):\n",
    "shap.summary_plot(shap_values, X_train, plot_type=\"bar\")\n",
    "\n",
    "# SHAP interaction values are a generalization of SHAP values to higher order interactions. \n",
    "    # Fast exact computation of pairwise interactions are implemented for tree models with the following code.\n",
    "    # This returns a matrix for every prediction, where the main effects are on the diagonal and \n",
    "    # the interaction effects are off-diagonal. \n",
    "    # These values often reveal interesting hidden relationships, \n",
    "    # such as how the increased risk of death peaks for men at age 60\n",
    "    \n",
    "shap.TreeExplainer(regressor).shap_interaction_values(X_train)"
   ]
  },
  {
   "cell_type": "markdown",
   "metadata": {},
   "source": [
    "# Step 4. Regression\n",
    "### Linear Regression (Not-Logged Predictors)"
   ]
  },
  {
   "cell_type": "code",
   "execution_count": null,
   "metadata": {},
   "outputs": [],
   "source": [
    "lr = LinearRegression()\n",
    "lr.fit(X_train, y_train)\n",
    "y_pred = lr.predict(X_test)\n",
    "print(f'Linear Regression_r2: {r2_score(y_test, y_pred).round(4)}')\n",
    "print(f'Linear Regression_Mean_squared_error: {mean_squared_error(y_test, y_pred).round(4)}')\n",
    "\n",
    "# RESULTS\n",
    "    # Linear Regression_r2: 0.1324\n",
    "    # Linear Regression_Mean_squared_error: 545.1472"
   ]
  },
  {
   "cell_type": "markdown",
   "metadata": {},
   "source": [
    "### Linear Regression (Logged Predictors)"
   ]
  },
  {
   "cell_type": "code",
   "execution_count": null,
   "metadata": {},
   "outputs": [],
   "source": [
    "lr = LinearRegression()\n",
    "lr.fit(X_train, y_train)\n",
    "y_pred = lr.predict(X_test)\n",
    "print(f'Linear Regression_r2: {r2_score(y_test, y_pred).round(4)}')\n",
    "print(f'Linear Regression_Mean_squared_error: {mean_squared_error(y_test, y_pred).round(4)}')\n",
    "\n",
    "# RESULTS\n",
    "    # Linear Regression_r2: 0.1556\n",
    "    # Linear Regression_Mean_squared_error: 0.3781"
   ]
  },
  {
   "cell_type": "markdown",
   "metadata": {},
   "source": [
    "### Regularized (Ridge) Regression, no tuning (Not-Logged Predictors)"
   ]
  },
  {
   "cell_type": "code",
   "execution_count": null,
   "metadata": {},
   "outputs": [],
   "source": [
    "# looks for overimportant parameters\n",
    "# alpha is a penalty term\n",
    "    \n",
    "rg = Ridge(alpha=1)\n",
    "rg.fit(X_train, y_train)\n",
    "\n",
    "kf = KFold(n_splits=5, shuffle=True, random_state=123)\n",
    "\n",
    "print(f'Ridge Regression_r2: {rg.score(X_test, y_test).round(4)}')\n",
    "cv_score = cross_val_score(rg, X, y, cv=kf)\n",
    "print(f'Overall model performance with cv_Mean_r2: {cv_score.mean().round(4)}', '\\n'\n",
    "f'Overall model performance with cv_r2_Std_deviation: {cv_score.std().round(6)}')\n",
    "\n",
    "# RESULTS\n",
    "    # Ridge Regression_r2: 0.1322\n",
    "    # Overall model performance with cv_Mean_r2: -0.034 \n",
    "    # Overall model performance with cv_r2_Std_deviation: 0.31807"
   ]
  },
  {
   "cell_type": "markdown",
   "metadata": {},
   "source": [
    "### Regularized (Ridge) Regression, no tuning (Logged Predictors)"
   ]
  },
  {
   "cell_type": "code",
   "execution_count": null,
   "metadata": {},
   "outputs": [],
   "source": [
    "rg = Ridge(alpha=1)\n",
    "rg.fit(X_train, y_train)\n",
    "\n",
    "kf = KFold(n_splits=5, shuffle=True, random_state=123)\n",
    "\n",
    "print(f'Ridge Regression_r2: {rg.score(X_test, y_test).round(4)}')\n",
    "cv_score = cross_val_score(rg, X, y, cv=kf)\n",
    "print(f'Overall model performance with cv_Mean_r2: {cv_score.mean().round(4)}', '\\n'\n",
    "f'Overall model performance with cv_r2_Std_deviation: {cv_score.std().round(6)}')\n",
    "\n",
    "# RESULTS\n",
    "    # Ridge Regression_r2: 0.1556\n",
    "    # Overall model performance with cv_Mean_r2: -0.034 \n",
    "    # Overall model performance with cv_r2_Std_deviation: 0.31807"
   ]
  }
 ],
 "metadata": {
  "kernelspec": {
   "display_name": "Python 3",
   "language": "python",
   "name": "python3"
  },
  "language_info": {
   "codemirror_mode": {
    "name": "ipython",
    "version": 3
   },
   "file_extension": ".py",
   "mimetype": "text/x-python",
   "name": "python",
   "nbconvert_exporter": "python",
   "pygments_lexer": "ipython3",
   "version": "3.7.4"
  },
  "varInspector": {
   "cols": {
    "lenName": 16,
    "lenType": 16,
    "lenVar": 40
   },
   "kernels_config": {
    "python": {
     "delete_cmd_postfix": "",
     "delete_cmd_prefix": "del ",
     "library": "var_list.py",
     "varRefreshCmd": "print(var_dic_list())"
    },
    "r": {
     "delete_cmd_postfix": ") ",
     "delete_cmd_prefix": "rm(",
     "library": "var_list.r",
     "varRefreshCmd": "cat(var_dic_list()) "
    }
   },
   "oldHeight": 122,
   "position": {
    "height": "40px",
    "left": "933px",
    "right": "20px",
    "top": "112px",
    "width": "250px"
   },
   "types_to_exclude": [
    "module",
    "function",
    "builtin_function_or_method",
    "instance",
    "_Feature"
   ],
   "varInspector_section_display": "none",
   "window_display": true
  }
 },
 "nbformat": 4,
 "nbformat_minor": 2
}
